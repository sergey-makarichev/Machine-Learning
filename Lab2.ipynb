{
 "cells": [
  {
   "cell_type": "code",
   "execution_count": 19,
   "id": "73603e75",
   "metadata": {},
   "outputs": [],
   "source": [
    "import numpy as np\n",
    "import matplotlib.pyplot as plt\n",
    "import pandas as pd\n",
    "from sklearn.metrics import accuracy_score\n",
    "%matplotlib inline"
   ]
  },
  {
   "cell_type": "markdown",
   "id": "2e50d42d",
   "metadata": {},
   "source": [
    "# 1. Читаем данные"
   ]
  },
  {
   "cell_type": "markdown",
   "id": "7098b73f",
   "metadata": {},
   "source": [
    "Возьмем данные из первой лабораторной, которые уже были обработаны(удалены выбросы, обработаны пропущенные значения, категоральные и бинарные признаки, а также проведена нормализация)"
   ]
  },
  {
   "cell_type": "code",
   "execution_count": 20,
   "id": "c73dad77",
   "metadata": {},
   "outputs": [
    {
     "data": {
      "text/plain": [
       "(43411, 49)"
      ]
     },
     "execution_count": 20,
     "metadata": {},
     "output_type": "execute_result"
    }
   ],
   "source": [
    "data = pd.read_csv('file_w.csv', delimiter=',')\n",
    "data.shape"
   ]
  },
  {
   "cell_type": "code",
   "execution_count": 21,
   "id": "1ac6a64b",
   "metadata": {},
   "outputs": [
    {
     "data": {
      "text/plain": [
       "pandas.core.frame.DataFrame"
      ]
     },
     "execution_count": 21,
     "metadata": {},
     "output_type": "execute_result"
    }
   ],
   "source": [
    "type(data)"
   ]
  },
  {
   "cell_type": "code",
   "execution_count": 22,
   "id": "6c86ebc7",
   "metadata": {},
   "outputs": [
    {
     "data": {
      "text/html": [
       "<div>\n",
       "<style scoped>\n",
       "    .dataframe tbody tr th:only-of-type {\n",
       "        vertical-align: middle;\n",
       "    }\n",
       "\n",
       "    .dataframe tbody tr th {\n",
       "        vertical-align: top;\n",
       "    }\n",
       "\n",
       "    .dataframe thead th {\n",
       "        text-align: right;\n",
       "    }\n",
       "</style>\n",
       "<table border=\"1\" class=\"dataframe\">\n",
       "  <thead>\n",
       "    <tr style=\"text-align: right;\">\n",
       "      <th></th>\n",
       "      <th>Age</th>\n",
       "      <th>Credit</th>\n",
       "      <th>Balance (euros)</th>\n",
       "      <th>Housing Loan</th>\n",
       "      <th>Personal Loan</th>\n",
       "      <th>Last Contact Day</th>\n",
       "      <th>Last Contact Duration</th>\n",
       "      <th>Campaign</th>\n",
       "      <th>Pdays</th>\n",
       "      <th>Previous</th>\n",
       "      <th>...</th>\n",
       "      <th>jun</th>\n",
       "      <th>mar</th>\n",
       "      <th>may</th>\n",
       "      <th>nov</th>\n",
       "      <th>oct</th>\n",
       "      <th>sep</th>\n",
       "      <th>failure</th>\n",
       "      <th>other</th>\n",
       "      <th>success</th>\n",
       "      <th>unknown.3</th>\n",
       "    </tr>\n",
       "  </thead>\n",
       "  <tbody>\n",
       "    <tr>\n",
       "      <th>0</th>\n",
       "      <td>0.654545</td>\n",
       "      <td>0.0</td>\n",
       "      <td>0.159682</td>\n",
       "      <td>0.0</td>\n",
       "      <td>0.0</td>\n",
       "      <td>0.133333</td>\n",
       "      <td>0.169571</td>\n",
       "      <td>0.00</td>\n",
       "      <td>0.000000</td>\n",
       "      <td>0.000000</td>\n",
       "      <td>...</td>\n",
       "      <td>0.0</td>\n",
       "      <td>0.0</td>\n",
       "      <td>1.0</td>\n",
       "      <td>0.0</td>\n",
       "      <td>0.0</td>\n",
       "      <td>0.0</td>\n",
       "      <td>0.0</td>\n",
       "      <td>0.0</td>\n",
       "      <td>0.0</td>\n",
       "      <td>1.0</td>\n",
       "    </tr>\n",
       "    <tr>\n",
       "      <th>1</th>\n",
       "      <td>0.400000</td>\n",
       "      <td>0.0</td>\n",
       "      <td>0.047533</td>\n",
       "      <td>0.0</td>\n",
       "      <td>0.0</td>\n",
       "      <td>0.133333</td>\n",
       "      <td>0.095845</td>\n",
       "      <td>0.00</td>\n",
       "      <td>0.000000</td>\n",
       "      <td>0.000000</td>\n",
       "      <td>...</td>\n",
       "      <td>0.0</td>\n",
       "      <td>0.0</td>\n",
       "      <td>1.0</td>\n",
       "      <td>0.0</td>\n",
       "      <td>0.0</td>\n",
       "      <td>0.0</td>\n",
       "      <td>0.0</td>\n",
       "      <td>0.0</td>\n",
       "      <td>0.0</td>\n",
       "      <td>1.0</td>\n",
       "    </tr>\n",
       "    <tr>\n",
       "      <th>2</th>\n",
       "      <td>0.200000</td>\n",
       "      <td>0.0</td>\n",
       "      <td>0.046101</td>\n",
       "      <td>0.0</td>\n",
       "      <td>1.0</td>\n",
       "      <td>0.133333</td>\n",
       "      <td>0.045576</td>\n",
       "      <td>0.00</td>\n",
       "      <td>0.000000</td>\n",
       "      <td>0.000000</td>\n",
       "      <td>...</td>\n",
       "      <td>0.0</td>\n",
       "      <td>0.0</td>\n",
       "      <td>1.0</td>\n",
       "      <td>0.0</td>\n",
       "      <td>0.0</td>\n",
       "      <td>0.0</td>\n",
       "      <td>0.0</td>\n",
       "      <td>0.0</td>\n",
       "      <td>0.0</td>\n",
       "      <td>1.0</td>\n",
       "    </tr>\n",
       "    <tr>\n",
       "      <th>3</th>\n",
       "      <td>0.454545</td>\n",
       "      <td>0.0</td>\n",
       "      <td>0.125889</td>\n",
       "      <td>0.0</td>\n",
       "      <td>0.0</td>\n",
       "      <td>0.133333</td>\n",
       "      <td>0.056300</td>\n",
       "      <td>0.00</td>\n",
       "      <td>0.000000</td>\n",
       "      <td>0.000000</td>\n",
       "      <td>...</td>\n",
       "      <td>0.0</td>\n",
       "      <td>0.0</td>\n",
       "      <td>1.0</td>\n",
       "      <td>0.0</td>\n",
       "      <td>0.0</td>\n",
       "      <td>0.0</td>\n",
       "      <td>0.0</td>\n",
       "      <td>0.0</td>\n",
       "      <td>0.0</td>\n",
       "      <td>1.0</td>\n",
       "    </tr>\n",
       "    <tr>\n",
       "      <th>4</th>\n",
       "      <td>0.200000</td>\n",
       "      <td>0.0</td>\n",
       "      <td>0.046048</td>\n",
       "      <td>1.0</td>\n",
       "      <td>0.0</td>\n",
       "      <td>0.133333</td>\n",
       "      <td>0.127346</td>\n",
       "      <td>0.00</td>\n",
       "      <td>0.000000</td>\n",
       "      <td>0.000000</td>\n",
       "      <td>...</td>\n",
       "      <td>0.0</td>\n",
       "      <td>0.0</td>\n",
       "      <td>1.0</td>\n",
       "      <td>0.0</td>\n",
       "      <td>0.0</td>\n",
       "      <td>0.0</td>\n",
       "      <td>0.0</td>\n",
       "      <td>0.0</td>\n",
       "      <td>0.0</td>\n",
       "      <td>1.0</td>\n",
       "    </tr>\n",
       "    <tr>\n",
       "      <th>...</th>\n",
       "      <td>...</td>\n",
       "      <td>...</td>\n",
       "      <td>...</td>\n",
       "      <td>...</td>\n",
       "      <td>...</td>\n",
       "      <td>...</td>\n",
       "      <td>...</td>\n",
       "      <td>...</td>\n",
       "      <td>...</td>\n",
       "      <td>...</td>\n",
       "      <td>...</td>\n",
       "      <td>...</td>\n",
       "      <td>...</td>\n",
       "      <td>...</td>\n",
       "      <td>...</td>\n",
       "      <td>...</td>\n",
       "      <td>...</td>\n",
       "      <td>...</td>\n",
       "      <td>...</td>\n",
       "      <td>...</td>\n",
       "      <td>...</td>\n",
       "    </tr>\n",
       "    <tr>\n",
       "      <th>43406</th>\n",
       "      <td>0.527273</td>\n",
       "      <td>0.0</td>\n",
       "      <td>0.089761</td>\n",
       "      <td>1.0</td>\n",
       "      <td>0.0</td>\n",
       "      <td>0.533333</td>\n",
       "      <td>0.649464</td>\n",
       "      <td>0.10</td>\n",
       "      <td>0.000000</td>\n",
       "      <td>0.000000</td>\n",
       "      <td>...</td>\n",
       "      <td>0.0</td>\n",
       "      <td>0.0</td>\n",
       "      <td>0.0</td>\n",
       "      <td>1.0</td>\n",
       "      <td>0.0</td>\n",
       "      <td>0.0</td>\n",
       "      <td>0.0</td>\n",
       "      <td>0.0</td>\n",
       "      <td>0.0</td>\n",
       "      <td>1.0</td>\n",
       "    </tr>\n",
       "    <tr>\n",
       "      <th>43407</th>\n",
       "      <td>0.890909</td>\n",
       "      <td>0.0</td>\n",
       "      <td>0.137719</td>\n",
       "      <td>1.0</td>\n",
       "      <td>0.0</td>\n",
       "      <td>0.533333</td>\n",
       "      <td>0.300268</td>\n",
       "      <td>0.05</td>\n",
       "      <td>0.000000</td>\n",
       "      <td>0.000000</td>\n",
       "      <td>...</td>\n",
       "      <td>0.0</td>\n",
       "      <td>0.0</td>\n",
       "      <td>0.0</td>\n",
       "      <td>1.0</td>\n",
       "      <td>0.0</td>\n",
       "      <td>0.0</td>\n",
       "      <td>0.0</td>\n",
       "      <td>0.0</td>\n",
       "      <td>0.0</td>\n",
       "      <td>1.0</td>\n",
       "    </tr>\n",
       "    <tr>\n",
       "      <th>43408</th>\n",
       "      <td>0.909091</td>\n",
       "      <td>0.0</td>\n",
       "      <td>0.349178</td>\n",
       "      <td>1.0</td>\n",
       "      <td>0.0</td>\n",
       "      <td>0.533333</td>\n",
       "      <td>0.750000</td>\n",
       "      <td>0.20</td>\n",
       "      <td>0.450122</td>\n",
       "      <td>0.250000</td>\n",
       "      <td>...</td>\n",
       "      <td>0.0</td>\n",
       "      <td>0.0</td>\n",
       "      <td>0.0</td>\n",
       "      <td>1.0</td>\n",
       "      <td>0.0</td>\n",
       "      <td>0.0</td>\n",
       "      <td>0.0</td>\n",
       "      <td>0.0</td>\n",
       "      <td>1.0</td>\n",
       "      <td>0.0</td>\n",
       "    </tr>\n",
       "    <tr>\n",
       "      <th>43409</th>\n",
       "      <td>0.636364</td>\n",
       "      <td>0.0</td>\n",
       "      <td>0.081432</td>\n",
       "      <td>1.0</td>\n",
       "      <td>0.0</td>\n",
       "      <td>0.533333</td>\n",
       "      <td>0.335121</td>\n",
       "      <td>0.15</td>\n",
       "      <td>0.000000</td>\n",
       "      <td>0.000000</td>\n",
       "      <td>...</td>\n",
       "      <td>0.0</td>\n",
       "      <td>0.0</td>\n",
       "      <td>0.0</td>\n",
       "      <td>1.0</td>\n",
       "      <td>0.0</td>\n",
       "      <td>0.0</td>\n",
       "      <td>0.0</td>\n",
       "      <td>0.0</td>\n",
       "      <td>0.0</td>\n",
       "      <td>1.0</td>\n",
       "    </tr>\n",
       "    <tr>\n",
       "      <th>43410</th>\n",
       "      <td>0.272727</td>\n",
       "      <td>0.0</td>\n",
       "      <td>0.203607</td>\n",
       "      <td>1.0</td>\n",
       "      <td>0.0</td>\n",
       "      <td>0.533333</td>\n",
       "      <td>0.236595</td>\n",
       "      <td>0.05</td>\n",
       "      <td>0.459854</td>\n",
       "      <td>0.916667</td>\n",
       "      <td>...</td>\n",
       "      <td>0.0</td>\n",
       "      <td>0.0</td>\n",
       "      <td>0.0</td>\n",
       "      <td>1.0</td>\n",
       "      <td>0.0</td>\n",
       "      <td>0.0</td>\n",
       "      <td>0.0</td>\n",
       "      <td>1.0</td>\n",
       "      <td>0.0</td>\n",
       "      <td>0.0</td>\n",
       "    </tr>\n",
       "  </tbody>\n",
       "</table>\n",
       "<p>43411 rows × 49 columns</p>\n",
       "</div>"
      ],
      "text/plain": [
       "            Age  Credit  Balance (euros)  Housing Loan  Personal Loan  \\\n",
       "0      0.654545     0.0         0.159682           0.0            0.0   \n",
       "1      0.400000     0.0         0.047533           0.0            0.0   \n",
       "2      0.200000     0.0         0.046101           0.0            1.0   \n",
       "3      0.454545     0.0         0.125889           0.0            0.0   \n",
       "4      0.200000     0.0         0.046048           1.0            0.0   \n",
       "...         ...     ...              ...           ...            ...   \n",
       "43406  0.527273     0.0         0.089761           1.0            0.0   \n",
       "43407  0.890909     0.0         0.137719           1.0            0.0   \n",
       "43408  0.909091     0.0         0.349178           1.0            0.0   \n",
       "43409  0.636364     0.0         0.081432           1.0            0.0   \n",
       "43410  0.272727     0.0         0.203607           1.0            0.0   \n",
       "\n",
       "       Last Contact Day  Last Contact Duration  Campaign     Pdays  Previous  \\\n",
       "0              0.133333               0.169571      0.00  0.000000  0.000000   \n",
       "1              0.133333               0.095845      0.00  0.000000  0.000000   \n",
       "2              0.133333               0.045576      0.00  0.000000  0.000000   \n",
       "3              0.133333               0.056300      0.00  0.000000  0.000000   \n",
       "4              0.133333               0.127346      0.00  0.000000  0.000000   \n",
       "...                 ...                    ...       ...       ...       ...   \n",
       "43406          0.533333               0.649464      0.10  0.000000  0.000000   \n",
       "43407          0.533333               0.300268      0.05  0.000000  0.000000   \n",
       "43408          0.533333               0.750000      0.20  0.450122  0.250000   \n",
       "43409          0.533333               0.335121      0.15  0.000000  0.000000   \n",
       "43410          0.533333               0.236595      0.05  0.459854  0.916667   \n",
       "\n",
       "       ...  jun  mar  may  nov  oct  sep  failure  other  success  unknown.3  \n",
       "0      ...  0.0  0.0  1.0  0.0  0.0  0.0      0.0    0.0      0.0        1.0  \n",
       "1      ...  0.0  0.0  1.0  0.0  0.0  0.0      0.0    0.0      0.0        1.0  \n",
       "2      ...  0.0  0.0  1.0  0.0  0.0  0.0      0.0    0.0      0.0        1.0  \n",
       "3      ...  0.0  0.0  1.0  0.0  0.0  0.0      0.0    0.0      0.0        1.0  \n",
       "4      ...  0.0  0.0  1.0  0.0  0.0  0.0      0.0    0.0      0.0        1.0  \n",
       "...    ...  ...  ...  ...  ...  ...  ...      ...    ...      ...        ...  \n",
       "43406  ...  0.0  0.0  0.0  1.0  0.0  0.0      0.0    0.0      0.0        1.0  \n",
       "43407  ...  0.0  0.0  0.0  1.0  0.0  0.0      0.0    0.0      0.0        1.0  \n",
       "43408  ...  0.0  0.0  0.0  1.0  0.0  0.0      0.0    0.0      1.0        0.0  \n",
       "43409  ...  0.0  0.0  0.0  1.0  0.0  0.0      0.0    0.0      0.0        1.0  \n",
       "43410  ...  0.0  0.0  0.0  1.0  0.0  0.0      0.0    1.0      0.0        0.0  \n",
       "\n",
       "[43411 rows x 49 columns]"
      ]
     },
     "execution_count": 22,
     "metadata": {},
     "output_type": "execute_result"
    }
   ],
   "source": [
    "data"
   ]
  },
  {
   "cell_type": "code",
   "execution_count": 23,
   "id": "29e40e19",
   "metadata": {},
   "outputs": [
    {
     "data": {
      "text/plain": [
       "Index(['Age', 'Credit', 'Balance (euros)', 'Housing Loan', 'Personal Loan',\n",
       "       'Last Contact Day', 'Last Contact Duration', 'Campaign', 'Pdays',\n",
       "       'Previous', 'Subscription', 'admin.', 'blue-collar', 'entrepreneur',\n",
       "       'housemaid', 'management', 'retired', 'self-employed', 'services',\n",
       "       'student', 'technician', 'unemployed', 'unknown', 'divorced', 'married',\n",
       "       'single', 'primary', 'secondary', 'tertiary', 'unknown.1', 'cellular',\n",
       "       'telephone', 'unknown.2', 'apr', 'aug', 'dec', 'feb', 'jan', 'jul',\n",
       "       'jun', 'mar', 'may', 'nov', 'oct', 'sep', 'failure', 'other', 'success',\n",
       "       'unknown.3'],\n",
       "      dtype='object')"
      ]
     },
     "execution_count": 23,
     "metadata": {},
     "output_type": "execute_result"
    }
   ],
   "source": [
    "data.columns"
   ]
  },
  {
   "cell_type": "code",
   "execution_count": 24,
   "id": "43dcbebf",
   "metadata": {},
   "outputs": [
    {
     "data": {
      "text/html": [
       "<div>\n",
       "<style scoped>\n",
       "    .dataframe tbody tr th:only-of-type {\n",
       "        vertical-align: middle;\n",
       "    }\n",
       "\n",
       "    .dataframe tbody tr th {\n",
       "        vertical-align: top;\n",
       "    }\n",
       "\n",
       "    .dataframe thead th {\n",
       "        text-align: right;\n",
       "    }\n",
       "</style>\n",
       "<table border=\"1\" class=\"dataframe\">\n",
       "  <thead>\n",
       "    <tr style=\"text-align: right;\">\n",
       "      <th></th>\n",
       "      <th>Age</th>\n",
       "      <th>Credit</th>\n",
       "      <th>Balance (euros)</th>\n",
       "      <th>Housing Loan</th>\n",
       "      <th>Personal Loan</th>\n",
       "      <th>Last Contact Day</th>\n",
       "      <th>Last Contact Duration</th>\n",
       "      <th>Campaign</th>\n",
       "      <th>Pdays</th>\n",
       "      <th>Previous</th>\n",
       "      <th>...</th>\n",
       "      <th>jun</th>\n",
       "      <th>mar</th>\n",
       "      <th>may</th>\n",
       "      <th>nov</th>\n",
       "      <th>oct</th>\n",
       "      <th>sep</th>\n",
       "      <th>failure</th>\n",
       "      <th>other</th>\n",
       "      <th>success</th>\n",
       "      <th>unknown.3</th>\n",
       "    </tr>\n",
       "  </thead>\n",
       "  <tbody>\n",
       "    <tr>\n",
       "      <th>count</th>\n",
       "      <td>43411.000000</td>\n",
       "      <td>43411.000000</td>\n",
       "      <td>43411.000000</td>\n",
       "      <td>43411.000000</td>\n",
       "      <td>43411.000000</td>\n",
       "      <td>43411.000000</td>\n",
       "      <td>43411.000000</td>\n",
       "      <td>43411.000000</td>\n",
       "      <td>43411.000000</td>\n",
       "      <td>43411.000000</td>\n",
       "      <td>...</td>\n",
       "      <td>43411.000000</td>\n",
       "      <td>43411.000000</td>\n",
       "      <td>43411.000000</td>\n",
       "      <td>43411.000000</td>\n",
       "      <td>43411.00000</td>\n",
       "      <td>43411.000000</td>\n",
       "      <td>43411.000000</td>\n",
       "      <td>43411.000000</td>\n",
       "      <td>43411.000000</td>\n",
       "      <td>43411.000000</td>\n",
       "    </tr>\n",
       "    <tr>\n",
       "      <th>mean</th>\n",
       "      <td>0.342540</td>\n",
       "      <td>0.016862</td>\n",
       "      <td>0.111525</td>\n",
       "      <td>0.441432</td>\n",
       "      <td>0.160443</td>\n",
       "      <td>0.492488</td>\n",
       "      <td>0.163247</td>\n",
       "      <td>0.082241</td>\n",
       "      <td>0.093059</td>\n",
       "      <td>0.040744</td>\n",
       "      <td>...</td>\n",
       "      <td>0.118150</td>\n",
       "      <td>0.010136</td>\n",
       "      <td>0.308332</td>\n",
       "      <td>0.087927</td>\n",
       "      <td>0.01472</td>\n",
       "      <td>0.011011</td>\n",
       "      <td>0.105711</td>\n",
       "      <td>0.037986</td>\n",
       "      <td>0.032250</td>\n",
       "      <td>0.824054</td>\n",
       "    </tr>\n",
       "    <tr>\n",
       "      <th>std</th>\n",
       "      <td>0.186195</td>\n",
       "      <td>0.128756</td>\n",
       "      <td>0.114604</td>\n",
       "      <td>0.496564</td>\n",
       "      <td>0.367021</td>\n",
       "      <td>0.276863</td>\n",
       "      <td>0.152151</td>\n",
       "      <td>0.125717</td>\n",
       "      <td>0.226678</td>\n",
       "      <td>0.116675</td>\n",
       "      <td>...</td>\n",
       "      <td>0.322789</td>\n",
       "      <td>0.100166</td>\n",
       "      <td>0.461810</td>\n",
       "      <td>0.283192</td>\n",
       "      <td>0.12043</td>\n",
       "      <td>0.104355</td>\n",
       "      <td>0.307470</td>\n",
       "      <td>0.191164</td>\n",
       "      <td>0.176665</td>\n",
       "      <td>0.380779</td>\n",
       "    </tr>\n",
       "    <tr>\n",
       "      <th>min</th>\n",
       "      <td>0.000000</td>\n",
       "      <td>0.000000</td>\n",
       "      <td>0.000000</td>\n",
       "      <td>0.000000</td>\n",
       "      <td>0.000000</td>\n",
       "      <td>0.000000</td>\n",
       "      <td>0.000000</td>\n",
       "      <td>0.000000</td>\n",
       "      <td>0.000000</td>\n",
       "      <td>0.000000</td>\n",
       "      <td>...</td>\n",
       "      <td>0.000000</td>\n",
       "      <td>0.000000</td>\n",
       "      <td>0.000000</td>\n",
       "      <td>0.000000</td>\n",
       "      <td>0.00000</td>\n",
       "      <td>0.000000</td>\n",
       "      <td>0.000000</td>\n",
       "      <td>0.000000</td>\n",
       "      <td>0.000000</td>\n",
       "      <td>0.000000</td>\n",
       "    </tr>\n",
       "    <tr>\n",
       "      <th>25%</th>\n",
       "      <td>0.200000</td>\n",
       "      <td>0.000000</td>\n",
       "      <td>0.049920</td>\n",
       "      <td>0.000000</td>\n",
       "      <td>0.000000</td>\n",
       "      <td>0.233333</td>\n",
       "      <td>0.064343</td>\n",
       "      <td>0.000000</td>\n",
       "      <td>0.000000</td>\n",
       "      <td>0.000000</td>\n",
       "      <td>...</td>\n",
       "      <td>0.000000</td>\n",
       "      <td>0.000000</td>\n",
       "      <td>0.000000</td>\n",
       "      <td>0.000000</td>\n",
       "      <td>0.00000</td>\n",
       "      <td>0.000000</td>\n",
       "      <td>0.000000</td>\n",
       "      <td>0.000000</td>\n",
       "      <td>0.000000</td>\n",
       "      <td>1.000000</td>\n",
       "    </tr>\n",
       "    <tr>\n",
       "      <th>50%</th>\n",
       "      <td>0.309091</td>\n",
       "      <td>0.000000</td>\n",
       "      <td>0.069708</td>\n",
       "      <td>0.000000</td>\n",
       "      <td>0.000000</td>\n",
       "      <td>0.500000</td>\n",
       "      <td>0.115282</td>\n",
       "      <td>0.050000</td>\n",
       "      <td>0.000000</td>\n",
       "      <td>0.000000</td>\n",
       "      <td>...</td>\n",
       "      <td>0.000000</td>\n",
       "      <td>0.000000</td>\n",
       "      <td>0.000000</td>\n",
       "      <td>0.000000</td>\n",
       "      <td>0.00000</td>\n",
       "      <td>0.000000</td>\n",
       "      <td>0.000000</td>\n",
       "      <td>0.000000</td>\n",
       "      <td>0.000000</td>\n",
       "      <td>1.000000</td>\n",
       "    </tr>\n",
       "    <tr>\n",
       "      <th>75%</th>\n",
       "      <td>0.472727</td>\n",
       "      <td>0.000000</td>\n",
       "      <td>0.120584</td>\n",
       "      <td>1.000000</td>\n",
       "      <td>0.000000</td>\n",
       "      <td>0.666667</td>\n",
       "      <td>0.207105</td>\n",
       "      <td>0.100000</td>\n",
       "      <td>0.000000</td>\n",
       "      <td>0.000000</td>\n",
       "      <td>...</td>\n",
       "      <td>0.000000</td>\n",
       "      <td>0.000000</td>\n",
       "      <td>1.000000</td>\n",
       "      <td>0.000000</td>\n",
       "      <td>0.00000</td>\n",
       "      <td>0.000000</td>\n",
       "      <td>0.000000</td>\n",
       "      <td>0.000000</td>\n",
       "      <td>0.000000</td>\n",
       "      <td>1.000000</td>\n",
       "    </tr>\n",
       "    <tr>\n",
       "      <th>max</th>\n",
       "      <td>1.000000</td>\n",
       "      <td>1.000000</td>\n",
       "      <td>1.000000</td>\n",
       "      <td>1.000000</td>\n",
       "      <td>1.000000</td>\n",
       "      <td>1.000000</td>\n",
       "      <td>1.000000</td>\n",
       "      <td>1.000000</td>\n",
       "      <td>1.000000</td>\n",
       "      <td>1.000000</td>\n",
       "      <td>...</td>\n",
       "      <td>1.000000</td>\n",
       "      <td>1.000000</td>\n",
       "      <td>1.000000</td>\n",
       "      <td>1.000000</td>\n",
       "      <td>1.00000</td>\n",
       "      <td>1.000000</td>\n",
       "      <td>1.000000</td>\n",
       "      <td>1.000000</td>\n",
       "      <td>1.000000</td>\n",
       "      <td>1.000000</td>\n",
       "    </tr>\n",
       "  </tbody>\n",
       "</table>\n",
       "<p>8 rows × 49 columns</p>\n",
       "</div>"
      ],
      "text/plain": [
       "                Age        Credit  Balance (euros)  Housing Loan  \\\n",
       "count  43411.000000  43411.000000     43411.000000  43411.000000   \n",
       "mean       0.342540      0.016862         0.111525      0.441432   \n",
       "std        0.186195      0.128756         0.114604      0.496564   \n",
       "min        0.000000      0.000000         0.000000      0.000000   \n",
       "25%        0.200000      0.000000         0.049920      0.000000   \n",
       "50%        0.309091      0.000000         0.069708      0.000000   \n",
       "75%        0.472727      0.000000         0.120584      1.000000   \n",
       "max        1.000000      1.000000         1.000000      1.000000   \n",
       "\n",
       "       Personal Loan  Last Contact Day  Last Contact Duration      Campaign  \\\n",
       "count   43411.000000      43411.000000           43411.000000  43411.000000   \n",
       "mean        0.160443          0.492488               0.163247      0.082241   \n",
       "std         0.367021          0.276863               0.152151      0.125717   \n",
       "min         0.000000          0.000000               0.000000      0.000000   \n",
       "25%         0.000000          0.233333               0.064343      0.000000   \n",
       "50%         0.000000          0.500000               0.115282      0.050000   \n",
       "75%         0.000000          0.666667               0.207105      0.100000   \n",
       "max         1.000000          1.000000               1.000000      1.000000   \n",
       "\n",
       "              Pdays      Previous  ...           jun           mar  \\\n",
       "count  43411.000000  43411.000000  ...  43411.000000  43411.000000   \n",
       "mean       0.093059      0.040744  ...      0.118150      0.010136   \n",
       "std        0.226678      0.116675  ...      0.322789      0.100166   \n",
       "min        0.000000      0.000000  ...      0.000000      0.000000   \n",
       "25%        0.000000      0.000000  ...      0.000000      0.000000   \n",
       "50%        0.000000      0.000000  ...      0.000000      0.000000   \n",
       "75%        0.000000      0.000000  ...      0.000000      0.000000   \n",
       "max        1.000000      1.000000  ...      1.000000      1.000000   \n",
       "\n",
       "                may           nov          oct           sep       failure  \\\n",
       "count  43411.000000  43411.000000  43411.00000  43411.000000  43411.000000   \n",
       "mean       0.308332      0.087927      0.01472      0.011011      0.105711   \n",
       "std        0.461810      0.283192      0.12043      0.104355      0.307470   \n",
       "min        0.000000      0.000000      0.00000      0.000000      0.000000   \n",
       "25%        0.000000      0.000000      0.00000      0.000000      0.000000   \n",
       "50%        0.000000      0.000000      0.00000      0.000000      0.000000   \n",
       "75%        1.000000      0.000000      0.00000      0.000000      0.000000   \n",
       "max        1.000000      1.000000      1.00000      1.000000      1.000000   \n",
       "\n",
       "              other       success     unknown.3  \n",
       "count  43411.000000  43411.000000  43411.000000  \n",
       "mean       0.037986      0.032250      0.824054  \n",
       "std        0.191164      0.176665      0.380779  \n",
       "min        0.000000      0.000000      0.000000  \n",
       "25%        0.000000      0.000000      1.000000  \n",
       "50%        0.000000      0.000000      1.000000  \n",
       "75%        0.000000      0.000000      1.000000  \n",
       "max        1.000000      1.000000      1.000000  \n",
       "\n",
       "[8 rows x 49 columns]"
      ]
     },
     "execution_count": 24,
     "metadata": {},
     "output_type": "execute_result"
    }
   ],
   "source": [
    "data.describe()"
   ]
  },
  {
   "cell_type": "code",
   "execution_count": 7,
   "id": "9491a900",
   "metadata": {},
   "outputs": [
    {
     "data": {
      "text/plain": [
       "0        False\n",
       "1        False\n",
       "2        False\n",
       "3        False\n",
       "4        False\n",
       "         ...  \n",
       "43406     True\n",
       "43407     True\n",
       "43408     True\n",
       "43409    False\n",
       "43410    False\n",
       "Name: Subscription, Length: 43411, dtype: bool"
      ]
     },
     "execution_count": 7,
     "metadata": {},
     "output_type": "execute_result"
    }
   ],
   "source": [
    "data['Subscription'] = data['Subscription'].astype('bool')\n",
    "data['Subscription'] "
   ]
  },
  {
   "cell_type": "code",
   "execution_count": 8,
   "id": "11e06518",
   "metadata": {},
   "outputs": [
    {
     "name": "stdout",
     "output_type": "stream",
     "text": [
      "float64\n",
      "float64\n",
      "float64\n",
      "float64\n",
      "float64\n",
      "float64\n",
      "float64\n",
      "float64\n",
      "float64\n",
      "float64\n",
      "bool\n",
      "float64\n",
      "float64\n",
      "float64\n",
      "float64\n",
      "float64\n",
      "float64\n",
      "float64\n",
      "float64\n",
      "float64\n",
      "float64\n",
      "float64\n",
      "float64\n",
      "float64\n",
      "float64\n",
      "float64\n",
      "float64\n",
      "float64\n",
      "float64\n",
      "float64\n",
      "float64\n",
      "float64\n",
      "float64\n",
      "float64\n",
      "float64\n",
      "float64\n",
      "float64\n",
      "float64\n",
      "float64\n",
      "float64\n",
      "float64\n",
      "float64\n",
      "float64\n",
      "float64\n",
      "float64\n",
      "float64\n",
      "float64\n",
      "float64\n",
      "float64\n"
     ]
    }
   ],
   "source": [
    "for c in data.columns:\n",
    "    print(data[c].dtype.name)"
   ]
  },
  {
   "cell_type": "markdown",
   "id": "f2ca1b80",
   "metadata": {},
   "source": [
    "# 2. Разбиваем датасет на обучающую и тестовую выборки"
   ]
  },
  {
   "cell_type": "code",
   "execution_count": 9,
   "id": "e782e09a",
   "metadata": {},
   "outputs": [],
   "source": [
    "X = data.drop('Subscription', axis = 1) # выбрасываем столбец 'Subscription'\n",
    "y = data['Subscription'] # создаём вектор значений столбца 'Subscription'\n"
   ]
  },
  {
   "cell_type": "code",
   "execution_count": 10,
   "id": "9e50210d",
   "metadata": {},
   "outputs": [
    {
     "name": "stdout",
     "output_type": "stream",
     "text": [
      "29085 14326\n"
     ]
    }
   ],
   "source": [
    "from sklearn.model_selection import train_test_split\n",
    "X_train, X_test, y_train, y_test = train_test_split(X, y, test_size = 0.33, random_state = 43)\n",
    "\n",
    "N_train, _ = X_train.shape \n",
    "N_test,  _ = X_test.shape \n",
    "\n",
    "print(N_train, N_test)"
   ]
  },
  {
   "cell_type": "code",
   "execution_count": 11,
   "id": "9220f0f6",
   "metadata": {},
   "outputs": [],
   "source": [
    "from sklearn.neural_network import MLPClassifier"
   ]
  },
  {
   "cell_type": "markdown",
   "id": "92e6924f",
   "metadata": {},
   "source": [
    "# 3. Создаём модель и обучаем её"
   ]
  },
  {
   "cell_type": "code",
   "execution_count": 12,
   "id": "4aa784f9",
   "metadata": {},
   "outputs": [],
   "source": [
    "mlp_model = MLPClassifier(hidden_layer_sizes = (100,),\n",
    "                          solver = 'adam', \n",
    "                          activation = 'relu',\n",
    "                          max_iter=1000,\n",
    "                          random_state = 30)"
   ]
  },
  {
   "cell_type": "code",
   "execution_count": 13,
   "id": "bfbf5f90",
   "metadata": {},
   "outputs": [
    {
     "name": "stdout",
     "output_type": "stream",
     "text": [
      "Wall time: 55.1 s\n"
     ]
    },
    {
     "data": {
      "text/plain": [
       "MLPClassifier(max_iter=1000, random_state=30)"
      ]
     },
     "execution_count": 13,
     "metadata": {},
     "output_type": "execute_result"
    }
   ],
   "source": [
    "%%time\n",
    "mlp_model.fit(X_train, y_train)"
   ]
  },
  {
   "cell_type": "code",
   "execution_count": 14,
   "id": "c1befc64",
   "metadata": {},
   "outputs": [],
   "source": [
    "y_train_pred = mlp_model.predict(X_train)\n",
    "y_test_pred = mlp_model.predict(X_test)"
   ]
  },
  {
   "cell_type": "code",
   "execution_count": 15,
   "id": "eeba5e54",
   "metadata": {},
   "outputs": [
    {
     "data": {
      "text/plain": [
       "0.11210386709479268"
      ]
     },
     "execution_count": 15,
     "metadata": {},
     "output_type": "execute_result"
    }
   ],
   "source": [
    "np.mean(y_test)"
   ]
  },
  {
   "cell_type": "code",
   "execution_count": 16,
   "id": "eb922dbc",
   "metadata": {},
   "outputs": [
    {
     "name": "stdout",
     "output_type": "stream",
     "text": [
      "0.04277118789754169 0.10798548094373865\n"
     ]
    }
   ],
   "source": [
    "print(np.mean(y_train != y_train_pred), np.mean(y_test != y_test_pred))"
   ]
  },
  {
   "cell_type": "code",
   "execution_count": 25,
   "id": "4133c978",
   "metadata": {},
   "outputs": [
    {
     "name": "stdout",
     "output_type": "stream",
     "text": [
      "TRAIN: 95.72% TEST: 89.20%\n"
     ]
    }
   ],
   "source": [
    "print(\"TRAIN: {:.2f}% TEST: {:.2f}%\".format(accuracy_score(y_train, y_train_pred)\n",
    "      * 100, accuracy_score(y_test, y_test_pred) * 100))"
   ]
  },
  {
   "cell_type": "markdown",
   "id": "7d3378f6",
   "metadata": {},
   "source": [
    "# 4. Подбор оптимального альфа"
   ]
  },
  {
   "cell_type": "markdown",
   "id": "7b65159a",
   "metadata": {},
   "source": [
    "Попробуем подобрать параметры регуляризации alpha"
   ]
  },
  {
   "cell_type": "code",
   "execution_count": 26,
   "id": "5de3e95d",
   "metadata": {},
   "outputs": [],
   "source": [
    "from sklearn.metrics import accuracy_score\n",
    "alpha_arr = np.logspace(-3, 3, 10)\n",
    "test_err = []\n",
    "train_err = []\n",
    "train_acc = []\n",
    "test_acc = []\n",
    "\n",
    "for alpha in alpha_arr:\n",
    "    mlp_model = MLPClassifier(alpha = alpha, hidden_layer_sizes = (100,), \n",
    "                              solver = 'adam', activation = 'relu', max_iter=1000, random_state = 20)\n",
    "    mlp_model.fit(X_train, y_train)\n",
    "\n",
    "    y_train_pred = mlp_model.predict(X_train)\n",
    "    y_test_pred = mlp_model.predict(X_test)\n",
    "    \n",
    "    train_err.append(np.mean(y_train != y_train_pred))\n",
    "    test_err.append(np.mean(y_test != y_test_pred))\n",
    "    train_acc.append(accuracy_score(y_train, y_train_pred))\n",
    "    test_acc.append(accuracy_score(y_test, y_test_pred))"
   ]
  },
  {
   "cell_type": "code",
   "execution_count": 27,
   "id": "868d3e80",
   "metadata": {},
   "outputs": [
    {
     "data": {
      "text/plain": [
       "<matplotlib.legend.Legend at 0x16866173550>"
      ]
     },
     "execution_count": 27,
     "metadata": {},
     "output_type": "execute_result"
    },
    {
     "data": {
      "image/png": "[encoded data removed]",
      "text/plain": [
       "<Figure size 432x288 with 1 Axes>"
      ]
     },
     "metadata": {
      "needs_background": "light"
     },
     "output_type": "display_data"
    }
   ],
   "source": [
    "plt.semilogx(alpha_arr, train_err, 'b-o', label = 'train')\n",
    "plt.semilogx(alpha_arr, test_err, 'r-o', label = 'test')\n",
    "plt.xlim([np.min(alpha_arr), np.max(alpha_arr)])\n",
    "plt.title('Error vs. alpha')\n",
    "plt.xlabel('alpha')\n",
    "plt.ylabel('error')\n",
    "plt.legend()"
   ]
  },
  {
   "cell_type": "code",
   "execution_count": 28,
   "id": "355ab8ee",
   "metadata": {},
   "outputs": [
    {
     "data": {
      "text/plain": [
       "<matplotlib.legend.Legend at 0x16866364bb0>"
      ]
     },
     "execution_count": 28,
     "metadata": {},
     "output_type": "execute_result"
    },
    {
     "data": {
      "image/png": "[encoded data removed]",
      "text/plain": [
       "<Figure size 432x288 with 1 Axes>"
      ]
     },
     "metadata": {
      "needs_background": "light"
     },
     "output_type": "display_data"
    }
   ],
   "source": [
    "plt.semilogx(alpha_arr, train_acc, 'r-o', label = 'train')\n",
    "plt.semilogx(alpha_arr, test_acc, 'b-o', label = 'test')\n",
    "plt.xlim([np.min(alpha_arr), np.max(alpha_arr)])\n",
    "plt.title('Accuracy vs. alpha')\n",
    "plt.xlabel('alpha')\n",
    "plt.ylabel('Accuracy')\n",
    "plt.legend()"
   ]
  },
  {
   "cell_type": "markdown",
   "id": "9672b67d",
   "metadata": {},
   "source": [
    "Из графика видно, что при малых значениях параметра регуляризации alpha (примерно < 10) наблюдается переобучение. Начиная с оптимального значения парамера, точность на тествой и на обучающей выборке примерно совпадают. При дальнейшем увеличении alpha точность уменьшается, то есть наблюдается недообучение."
   ]
  },
  {
   "cell_type": "markdown",
   "id": "dfe44465",
   "metadata": {},
   "source": [
    "Найдём минимальное значение ошибки:"
   ]
  },
  {
   "cell_type": "code",
   "execution_count": 29,
   "id": "c3d44427",
   "metadata": {},
   "outputs": [
    {
     "name": "stdout",
     "output_type": "stream",
     "text": [
      "TRAIN: 0.04198040226921093 TEST: 0.09102331425380428\n"
     ]
    }
   ],
   "source": [
    "min_train_err = np.min(train_err)\n",
    "min_test_err = np.min(test_err)\n",
    "print(\"TRAIN:\", min_train_err, \"TEST:\", min_test_err)"
   ]
  },
  {
   "cell_type": "markdown",
   "id": "b39ad0bf",
   "metadata": {},
   "source": [
    "И найдём оптимальное значение alpha:"
   ]
  },
  {
   "cell_type": "code",
   "execution_count": 30,
   "id": "a3ea5fa9",
   "metadata": {},
   "outputs": [
    {
     "name": "stdout",
     "output_type": "stream",
     "text": [
      "[0.1]\n"
     ]
    }
   ],
   "source": [
    "alpha_opt = alpha_arr[test_err == min_test_err]\n",
    "print(alpha_opt)"
   ]
  },
  {
   "cell_type": "markdown",
   "id": "d955160a",
   "metadata": {},
   "source": [
    "Запустим классификатор при найденом значении alpha_opt"
   ]
  },
  {
   "cell_type": "code",
   "execution_count": 31,
   "id": "5ed2eed9",
   "metadata": {},
   "outputs": [
    {
     "name": "stdout",
     "output_type": "stream",
     "text": [
      "0.08048822417053464\n",
      "0.09102331425380428\n"
     ]
    }
   ],
   "source": [
    "mlp_model = MLPClassifier(alpha = alpha_opt, hidden_layer_sizes = (100,),\n",
    "                          solver = 'adam', activation = 'relu', max_iter=1000, random_state = 20)\n",
    "mlp_model.fit(X_train, y_train)\n",
    "\n",
    "y_train_pred = mlp_model.predict(X_train)\n",
    "y_test_pred = mlp_model.predict(X_test)\n",
    "print(np.mean(y_train != y_train_pred))\n",
    "print(np.mean(y_test != y_test_pred))"
   ]
  },
  {
   "cell_type": "code",
   "execution_count": 32,
   "id": "ed50c5b4",
   "metadata": {},
   "outputs": [
    {
     "name": "stdout",
     "output_type": "stream",
     "text": [
      "TRAIN: 91.95% TEST: 90.90%\n"
     ]
    }
   ],
   "source": [
    "print(\"TRAIN: {:.2f}% TEST: {:.2f}%\".format(accuracy_score(y_train, y_train_pred)\n",
    "      * 100, accuracy_score(y_test, y_test_pred) * 100))"
   ]
  },
  {
   "cell_type": "markdown",
   "id": "0c32cde4",
   "metadata": {},
   "source": [
    "# 5. Подбор оптимального числа нейронов"
   ]
  },
  {
   "cell_type": "code",
   "execution_count": 33,
   "id": "dd46e0c4",
   "metadata": {},
   "outputs": [],
   "source": [
    "neuron_arr = np.linspace(10, 300, 30).astype(int)\n",
    "test_err = []\n",
    "train_err = []\n",
    "train_acc = []\n",
    "test_acc = []\n",
    "\n",
    "for neuron in neuron_arr:\n",
    "    mlp_model = MLPClassifier(alpha = alpha_opt, hidden_layer_sizes = (neuron,), \n",
    "                              solver = 'adam', activation = 'relu', max_iter=1000, random_state = 20)\n",
    "    mlp_model.fit(X_train, y_train)\n",
    "\n",
    "    y_train_pred = mlp_model.predict(X_train)\n",
    "    y_test_pred = mlp_model.predict(X_test)\n",
    "    \n",
    "    train_err.append(np.mean(y_train != y_train_pred))\n",
    "    test_err.append(np.mean(y_test != y_test_pred))\n",
    "    train_acc.append(accuracy_score(y_train, y_train_pred))\n",
    "    test_acc.append(accuracy_score(y_test, y_test_pred))"
   ]
  },
  {
   "cell_type": "code",
   "execution_count": 34,
   "id": "36534821",
   "metadata": {},
   "outputs": [
    {
     "data": {
      "text/plain": [
       "<matplotlib.legend.Legend at 0x16866429310>"
      ]
     },
     "execution_count": 34,
     "metadata": {},
     "output_type": "execute_result"
    },
    {
     "data": {
      "image/png": "[encoded data removed]",
      "text/plain": [
       "<Figure size 432x288 with 1 Axes>"
      ]
     },
     "metadata": {
      "needs_background": "light"
     },
     "output_type": "display_data"
    }
   ],
   "source": [
    "plt.plot(neuron_arr, train_err, 'b-o', label = 'train')\n",
    "plt.plot(neuron_arr, test_err, 'r-o', label = 'test')\n",
    "plt.xlim([np.min(neuron_arr), np.max(neuron_arr)])\n",
    "plt.title('Error vs. neuron')\n",
    "plt.xlabel('neuron')\n",
    "plt.ylabel('error')\n",
    "plt.legend()"
   ]
  },
  {
   "cell_type": "code",
   "execution_count": 35,
   "id": "55fc0a84",
   "metadata": {},
   "outputs": [
    {
     "data": {
      "text/plain": [
       "<matplotlib.legend.Legend at 0x16865da04f0>"
      ]
     },
     "execution_count": 35,
     "metadata": {},
     "output_type": "execute_result"
    },
    {
     "data": {
      "image/png": "[encoded data removed]",
      "text/plain": [
       "<Figure size 432x288 with 1 Axes>"
      ]
     },
     "metadata": {
      "needs_background": "light"
     },
     "output_type": "display_data"
    }
   ],
   "source": [
    "plt.plot(neuron_arr, train_acc, 'r-o', label = 'train')\n",
    "plt.plot(neuron_arr, test_acc, 'b-o', label = 'test')\n",
    "plt.xlim([np.min(neuron_arr), np.max(neuron_arr)])\n",
    "plt.title('Accuracy vs. neuron')\n",
    "plt.xlabel('neuron')\n",
    "plt.ylabel('Accuracy')\n",
    "plt.legend()"
   ]
  },
  {
   "cell_type": "code",
   "execution_count": 36,
   "id": "72f5ed71",
   "metadata": {},
   "outputs": [
    {
     "name": "stdout",
     "output_type": "stream",
     "text": [
      "Optimal neuron count: 260\n"
     ]
    }
   ],
   "source": [
    "min_test_err = np.min(test_err)\n",
    "neuron_opt = neuron_arr[test_err == min_test_err][0]\n",
    "print('Optimal neuron count: {}'.format(neuron_opt))"
   ]
  },
  {
   "cell_type": "markdown",
   "id": "a7609274",
   "metadata": {},
   "source": [
    "Мы видим, что явная зависимость между количеством нейронов и точностью не наблюдается"
   ]
  },
  {
   "cell_type": "markdown",
   "id": "109f0e0e",
   "metadata": {},
   "source": [
    "Запустим классификатор при найденом значении neuron_opt"
   ]
  },
  {
   "cell_type": "code",
   "execution_count": 37,
   "id": "e0af7a54",
   "metadata": {},
   "outputs": [
    {
     "name": "stdout",
     "output_type": "stream",
     "text": [
      "0.08045384218669417\n",
      "0.09011587323747033\n"
     ]
    }
   ],
   "source": [
    "mlp_model = MLPClassifier(alpha=alpha_opt, hidden_layer_sizes=(neuron_opt,),\n",
    "                          solver='adam', activation='relu', max_iter=1000, random_state=42)\n",
    "mlp_model.fit(X_train, y_train)\n",
    "\n",
    "y_train_pred = mlp_model.predict(X_train)\n",
    "y_test_pred = mlp_model.predict(X_test)\n",
    "print(np.mean(y_train != y_train_pred))\n",
    "print(np.mean(y_test != y_test_pred))"
   ]
  },
  {
   "cell_type": "code",
   "execution_count": 38,
   "id": "b57040a7",
   "metadata": {},
   "outputs": [
    {
     "name": "stdout",
     "output_type": "stream",
     "text": [
      "TRAIN: 91.95% TEST: 90.99%\n"
     ]
    }
   ],
   "source": [
    "print(\"TRAIN: {:.2f}% TEST: {:.2f}%\".format(accuracy_score(y_train, y_train_pred)\n",
    "      * 100, accuracy_score(y_test, y_test_pred) * 100))"
   ]
  },
  {
   "cell_type": "markdown",
   "id": "587c8b81",
   "metadata": {},
   "source": [
    "# 6. Подбор оптимального альфа и числа нейронов"
   ]
  },
  {
   "cell_type": "code",
   "execution_count": 39,
   "id": "534c6824",
   "metadata": {},
   "outputs": [],
   "source": [
    "neuron_arr = np.linspace(10, 300, 5).astype(int)\n",
    "alpha_arr = np.logspace(-3, 3, 5)\n",
    "test_err = []\n",
    "train_err = []\n",
    "train_acc = []\n",
    "test_acc = []\n",
    "pars_arr = []\n",
    "\n",
    "for neuron in neuron_arr:\n",
    "    for alpha in alpha_arr:\n",
    "        mlp_model = MLPClassifier(alpha = alpha, hidden_layer_sizes = (neuron,), \n",
    "                                  solver = 'adam', activation = 'relu', max_iter=1000, random_state = 20)\n",
    "        mlp_model.fit(X_train, y_train)\n",
    "\n",
    "        y_train_pred = mlp_model.predict(X_train)\n",
    "        y_test_pred = mlp_model.predict(X_test)\n",
    "    \n",
    "        train_err.append(np.mean(y_train != y_train_pred))\n",
    "        test_err.append(np.mean(y_test != y_test_pred))\n",
    "        train_acc.append(accuracy_score(y_train, y_train_pred))\n",
    "        test_acc.append(accuracy_score(y_test, y_test_pred))\n",
    "        pars_arr.append([neuron, alpha])"
   ]
  },
  {
   "cell_type": "code",
   "execution_count": 40,
   "id": "7c656239",
   "metadata": {},
   "outputs": [
    {
     "name": "stdout",
     "output_type": "stream",
     "text": [
      "Neuron count opt: 10\n",
      "Alpha opt:  0.001\n"
     ]
    }
   ],
   "source": [
    "min_test_err = np.min(test_err)\n",
    "i, = np.where(test_err == min_test_err)\n",
    "neuron_opt, alpha_opt = pars_arr[i[0]]\n",
    "print(\"Neuron count opt:\", neuron_opt)\n",
    "print(\"Alpha opt: \", alpha_opt)"
   ]
  },
  {
   "cell_type": "code",
   "execution_count": 41,
   "id": "d526c659",
   "metadata": {},
   "outputs": [
    {
     "name": "stdout",
     "output_type": "stream",
     "text": [
      "0.0839264225545814\n",
      "0.09241937735585648\n"
     ]
    }
   ],
   "source": [
    "mlp_model = MLPClassifier(alpha=alpha_opt, hidden_layer_sizes=(neuron_opt,),\n",
    "                          solver='adam', activation='relu', max_iter=1000, random_state=42)\n",
    "mlp_model.fit(X_train, y_train)\n",
    "\n",
    "y_train_pred = mlp_model.predict(X_train)\n",
    "y_test_pred = mlp_model.predict(X_test)\n",
    "print(np.mean(y_train != y_train_pred))\n",
    "print(np.mean(y_test != y_test_pred))"
   ]
  },
  {
   "cell_type": "code",
   "execution_count": 42,
   "id": "09850731",
   "metadata": {},
   "outputs": [
    {
     "name": "stdout",
     "output_type": "stream",
     "text": [
      "TRAIN: 91.61% TEST: 90.76%\n"
     ]
    }
   ],
   "source": [
    "print(\"TRAIN: {:.2f}% TEST: {:.2f}%\".format(accuracy_score(y_train, y_train_pred)\n",
    "      * 100, accuracy_score(y_test, y_test_pred) * 100))"
   ]
  },
  {
   "cell_type": "markdown",
   "id": "44dad89f",
   "metadata": {},
   "source": [
    "# 7. Вывод"
   ]
  },
  {
   "cell_type": "markdown",
   "id": "e377473b",
   "metadata": {},
   "source": [
    "- При изменении параметра регуляризации мы смогли изменить точность выборок. При выборе оптимального параметра alpha мы избавились от эффекта переобучения, повысили точность тестовой выборки и уменьшили разность между точностью выборок.\n",
    "- Подбор оптимального числа нейронов при оптимальном значении регулярации, немного повысил точность на тестовой выборке.\n",
    "- При одноверенном подборе обоих параметров точность на обучающей и тестовой выборке немного теряется."
   ]
  },
  {
   "cell_type": "code",
   "execution_count": null,
   "id": "83663bdc",
   "metadata": {},
   "outputs": [],
   "source": []
  }
 ],
 "metadata": {
  "kernelspec": {
   "display_name": "Python 3",
   "language": "python",
   "name": "python3"
  },
  "language_info": {
   "codemirror_mode": {
    "name": "ipython",
    "version": 3
   },
   "file_extension": ".py",
   "mimetype": "text/x-python",
   "name": "python",
   "nbconvert_exporter": "python",
   "pygments_lexer": "ipython3",
   "version": "3.8.8"
  }
 },
 "nbformat": 4,
 "nbformat_minor": 5
}
